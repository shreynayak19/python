{
 "cells": [
  {
   "cell_type": "markdown",
   "id": "37d15e25",
   "metadata": {},
   "source": [
    "# Define a function\n",
    "\n",
    "Python def keyword is used to define a function, it is placed before a function name that is provided by the user to create a user-defined function. \n",
    "\n",
    "In Python, a function is a logical unit of code containing a sequence of statements indented under a name given using the “def” keyword. \n",
    "\n",
    "In Python def keyword is the most used keyword."
   ]
  },
  {
   "cell_type": "code",
   "execution_count": 1,
   "id": "244290db",
   "metadata": {},
   "outputs": [
    {
     "name": "stdout",
     "output_type": "stream",
     "text": [
      "Hello\n"
     ]
    }
   ],
   "source": [
    "# defining function\n",
    "def func():\n",
    "    print(\"Hello\")\n",
    "\n",
    "# calling function    \n",
    "func()"
   ]
  },
  {
   "cell_type": "markdown",
   "id": "46592e17",
   "metadata": {},
   "source": [
    "Example 1: Create function to find the subtraction of two Numbers"
   ]
  },
  {
   "cell_type": "code",
   "execution_count": 2,
   "id": "28453c77",
   "metadata": {},
   "outputs": [
    {
     "name": "stdout",
     "output_type": "stream",
     "text": [
      "subtraction of  90  and  50  is  40\n"
     ]
    }
   ],
   "source": [
    "# Python3 code to demonstrate\n",
    "# def keyword\n",
    "\n",
    "# function for subtraction of 2 numbers.\n",
    "def subNumbers(x, y):\n",
    "    return (x-y)\n",
    "\n",
    "# main code\n",
    "a = 90\n",
    "b = 50\n",
    "\n",
    "# finding subtraction\n",
    "res = subNumbers(a, b)\n",
    "\n",
    "# print statement\n",
    "print(\"subtraction of \", a, \" and \", b, \" is \", res)"
   ]
  },
  {
   "cell_type": "markdown",
   "id": "71c9ea72",
   "metadata": {},
   "source": [
    "Create function with the first 10 prime numbers"
   ]
  },
  {
   "cell_type": "code",
   "execution_count": 3,
   "id": "d71e7277",
   "metadata": {},
   "outputs": [
    {
     "name": "stdout",
     "output_type": "stream",
     "text": [
      "2\n",
      "3\n",
      "5\n",
      "7\n",
      "11\n",
      "13\n",
      "17\n",
      "19\n",
      "23\n",
      "29\n"
     ]
    }
   ],
   "source": [
    "# Python program to print first 10 prime numbers\n",
    "\n",
    "# A function name prime is defined\n",
    "# using def\n",
    "def fun(n):\n",
    "    x = 2\n",
    "    count = 0\n",
    "    while count < n:\n",
    "        for d in range(2, int(x ** 0.5) + 1):  # check divisibility only up to sqrt(x)\n",
    "            if x % d == 0:\n",
    "                break  # if divisible, it's not prime, so break the loop\n",
    "        else:\n",
    "            print(x)  # prime number\n",
    "            count += 1\n",
    "        x += 1\n",
    "\n",
    "# Driver Code\n",
    "n = 10\n",
    "\n",
    "fun(n)"
   ]
  },
  {
   "cell_type": "markdown",
   "id": "3fabea34",
   "metadata": {},
   "source": [
    "## Passing Function as an Argument"
   ]
  },
  {
   "cell_type": "code",
   "execution_count": 4,
   "id": "12fba9ff",
   "metadata": {},
   "outputs": [
    {
     "name": "stdout",
     "output_type": "stream",
     "text": [
      "25\n"
     ]
    }
   ],
   "source": [
    "# A function that takes another function as an argument\n",
    "def fun(func, arg):\n",
    "    return func(arg)\n",
    "  \n",
    "def square(x):\n",
    "    return x ** 2\n",
    "  \n",
    "# Calling fun and passing square function as an argument  \n",
    "res = fun(square, 5)\n",
    "print(res)"
   ]
  },
  {
   "cell_type": "markdown",
   "id": "1761de65",
   "metadata": {},
   "source": [
    "## Python def keyword example with *args\n",
    "\n",
    "In Python, *args is used to pass a variable number of arguments to a function. \n",
    "\n",
    "The * allows a function to accept any number of positional arguments. \n",
    "\n",
    "This is useful when we are not sure how many arguments will be passed to the function."
   ]
  },
  {
   "cell_type": "code",
   "execution_count": 6,
   "id": "39ee28a0",
   "metadata": {},
   "outputs": [
    {
     "name": "stdout",
     "output_type": "stream",
     "text": [
      "1\n",
      "2\n",
      "3\n",
      "4\n",
      "5\n"
     ]
    }
   ],
   "source": [
    "def fun(*args):\n",
    "    for arg in args:\n",
    "        print(arg)\n",
    "\n",
    "# Calling the function with multiple arguments\n",
    "fun(1, 2, 3, 4, 5)"
   ]
  },
  {
   "cell_type": "markdown",
   "id": "d06f31ae",
   "metadata": {},
   "source": [
    "## Python def keyword example with **kwargs\n",
    "\n",
    "In Python, **kwargs is used to pass a variable number of keyword arguments to a function. \n",
    "\n",
    "The ** syntax collects the keyword arguments into a dictionary, where the keys are the argument names and the values are the corresponding argument values. \n",
    "\n",
    "This allows the function to accept any number of named (keyword) arguments."
   ]
  },
  {
   "cell_type": "code",
   "execution_count": 7,
   "id": "4216aecc",
   "metadata": {},
   "outputs": [
    {
     "name": "stdout",
     "output_type": "stream",
     "text": [
      "name: Alice\n",
      "age: 30\n",
      "city: New York\n"
     ]
    }
   ],
   "source": [
    "def fun(**kwargs):\n",
    "    for k, val in kwargs.items():\n",
    "        print(f\"{k}: {val}\")\n",
    "\n",
    "# Calling the function with keyword arguments\n",
    "fun(name=\"Alice\", age=30, city=\"New York\")"
   ]
  },
  {
   "cell_type": "markdown",
   "id": "61fca35d",
   "metadata": {},
   "source": [
    "## Python def keyword example with the class\n",
    "\n",
    "In Python, the def keyword is used to define functions and it can also be used to define methods inside a class.\n",
    "\n",
    "A method is a function that is associated with an object and is called using the instance of the class.\n",
    "\n",
    "When using def inside a class, we can define methods that can access and modify the attributes of the class and its instances."
   ]
  },
  {
   "cell_type": "code",
   "execution_count": 8,
   "id": "28657c2b",
   "metadata": {},
   "outputs": [
    {
     "name": "stdout",
     "output_type": "stream",
     "text": [
      "Name - Alice and Age - 30.\n"
     ]
    }
   ],
   "source": [
    "class Person:\n",
    "    # Constructor to initialize the person's name and age\n",
    "    def __init__(self, name, age):\n",
    "        self.name = name  # Set the name attribute\n",
    "        self.age = age    # Set the age attribute\n",
    "    \n",
    "    # Method to print a greeting message\n",
    "    def greet(self):\n",
    "        print(f\"Name - {self.name} and Age - {self.age}.\")\n",
    "\n",
    "# Create an instance of the Person class\n",
    "p1 = Person(\"Alice\", 30)\n",
    "\n",
    "# Call the greet method to display the greeting message\n",
    "p1.greet()"
   ]
  },
  {
   "cell_type": "markdown",
   "id": "a9631791",
   "metadata": {},
   "source": [
    "## Python return statement\n",
    "\n",
    "A return statement is used to end the execution of the function call and it “returns” the value of the expression following the return keyword to the caller. \n",
    "\n",
    "The statements after the return statements are not executed. If the return statement is without any expression, then the special value None is returned. \n",
    "\n",
    "A return statement is overall used to invoke a function so that the passed statements can be executed."
   ]
  },
  {
   "cell_type": "code",
   "execution_count": 9,
   "id": "4a4e1763",
   "metadata": {},
   "outputs": [
    {
     "name": "stdout",
     "output_type": "stream",
     "text": [
      "5\n",
      "True\n"
     ]
    }
   ],
   "source": [
    "def add(a, b):\n",
    "\n",
    "    # returning sum of a and b\n",
    "    return a + b\n",
    "\n",
    "def is_true(a):\n",
    "\n",
    "    # returning boolean of a\n",
    "    return bool(a)\n",
    "\n",
    "# calling function\n",
    "res = add(2, 3)\n",
    "print(res)\n",
    "\n",
    "res = is_true(2<5)\n",
    "print(res)"
   ]
  },
  {
   "cell_type": "code",
   "execution_count": 10,
   "id": "2b413398",
   "metadata": {},
   "outputs": [
    {
     "name": "stdout",
     "output_type": "stream",
     "text": [
      "Alice\n",
      "30\n"
     ]
    }
   ],
   "source": [
    "def fun():\n",
    "    name = \"Alice\"\n",
    "    age = 30\n",
    "    return name, age\n",
    "\n",
    "name, age = fun()\n",
    "print(name)  \n",
    "print(age)   # Output: 30"
   ]
  },
  {
   "cell_type": "code",
   "execution_count": 11,
   "id": "ee714eb1",
   "metadata": {},
   "outputs": [
    {
     "name": "stdout",
     "output_type": "stream",
     "text": [
      "[9, 27]\n"
     ]
    }
   ],
   "source": [
    "def fun(n):\n",
    "    return [n**2, n**3]\n",
    "\n",
    "res = fun(3)\n",
    "print(res)"
   ]
  },
  {
   "cell_type": "code",
   "execution_count": 12,
   "id": "bba78b63",
   "metadata": {},
   "outputs": [
    {
     "name": "stdout",
     "output_type": "stream",
     "text": [
      "Message: Hello, World!\n"
     ]
    }
   ],
   "source": [
    "def fun1(msg):\n",
    "    def fun2():\n",
    "        # Using the outer function's message\n",
    "        return f\"Message: {msg}\"\n",
    "    return fun2\n",
    "\n",
    "# Getting the inner function\n",
    "fun3 = fun1(\"Hello, World!\")\n",
    "\n",
    "# Calling the inner function\n",
    "print(fun3())"
   ]
  }
 ],
 "metadata": {
  "kernelspec": {
   "display_name": "Python 3",
   "language": "python",
   "name": "python3"
  },
  "language_info": {
   "codemirror_mode": {
    "name": "ipython",
    "version": 3
   },
   "file_extension": ".py",
   "mimetype": "text/x-python",
   "name": "python",
   "nbconvert_exporter": "python",
   "pygments_lexer": "ipython3",
   "version": "3.12.9"
  }
 },
 "nbformat": 4,
 "nbformat_minor": 5
}
