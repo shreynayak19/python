{
 "cells": [
  {
   "cell_type": "markdown",
   "id": "6d3a2f6a",
   "metadata": {},
   "source": [
    "# Input and Output in Python\n",
    "\n",
    "Understanding input and output operations is fundamental to Python programming. \n",
    "\n",
    "With the print() function, we can display output in various formats, while the input() function enables interaction with users by gathering input during program execution. "
   ]
  },
  {
   "cell_type": "markdown",
   "id": "355bc2e2",
   "metadata": {},
   "source": [
    "### Taking input in Python\n",
    "\n",
    "Python input() function is used to take user input. By default, it returns the user input in form of a string. "
   ]
  },
  {
   "cell_type": "code",
   "execution_count": 1,
   "id": "e8f5558d",
   "metadata": {},
   "outputs": [
    {
     "name": "stdout",
     "output_type": "stream",
     "text": [
      "Hello, Shrey ! Welcome!\n"
     ]
    }
   ],
   "source": [
    "name = input(\"Enter your name: \")\n",
    "print(\"Hello,\", name, \"! Welcome!\")"
   ]
  },
  {
   "cell_type": "markdown",
   "id": "8330c83b",
   "metadata": {},
   "source": [
    "### Printing Output using print() in Python\n",
    "\n",
    "At its core, printing output in Python is straightforward, thanks to the print() function. \n",
    "\n",
    "This function allows us to display text, variables and expressions on the console. Let’s begin with the basic usage of the print() function:"
   ]
  },
  {
   "cell_type": "code",
   "execution_count": 3,
   "id": "ebf05183",
   "metadata": {},
   "outputs": [
    {
     "name": "stdout",
     "output_type": "stream",
     "text": [
      "Hello, World!\n"
     ]
    }
   ],
   "source": [
    "print(\"Hello, World!\")"
   ]
  },
  {
   "cell_type": "markdown",
   "id": "fc5c73e2",
   "metadata": {},
   "source": [
    "### Printing Variables\n",
    "\n",
    "We can use the print() function to print single and multiple variables. We can print multiple variables by separating them with commas. Example:"
   ]
  },
  {
   "cell_type": "code",
   "execution_count": 4,
   "id": "824fe521",
   "metadata": {},
   "outputs": [
    {
     "name": "stdout",
     "output_type": "stream",
     "text": [
      "Bob\n",
      "Alice 25 New York\n"
     ]
    }
   ],
   "source": [
    "# Single variable\n",
    "s = \"Bob\"\n",
    "print(s)\n",
    "\n",
    "# Multiple Variables\n",
    "s = \"Alice\"\n",
    "age = 25\n",
    "city = \"New York\"\n",
    "print(s, age, city)"
   ]
  },
  {
   "cell_type": "markdown",
   "id": "c7d06341",
   "metadata": {},
   "source": [
    "### Take Multiple Input in Python\n",
    "\n",
    "We are taking multiple input (with white spaces) from the user in a single line, splitting the values entered by the user into separate variables for each value using the split() method. \n",
    "\n",
    "Then, it prints the values with corresponding labels, either two or three, based on the number of inputs provided by the user."
   ]
  },
  {
   "cell_type": "code",
   "execution_count": 7,
   "id": "2e465579",
   "metadata": {},
   "outputs": [
    {
     "name": "stdout",
     "output_type": "stream",
     "text": [
      "Number of boys:  1\n",
      "Number of girls:  4\n",
      "Total number of students:  1\n",
      "Number of boys is :  5\n",
      "Number of girls is :  0\n"
     ]
    }
   ],
   "source": [
    "# taking two inputs at a time\n",
    "x, y = input(\"Enter two values: \").split()\n",
    "print(\"Number of boys: \", x)\n",
    "print(\"Number of girls: \", y)\n",
    " \n",
    "# taking three inputs at a time\n",
    "x, y, z = input(\"Enter three values: \").split()\n",
    "print(\"Total number of students: \", x)\n",
    "print(\"Number of boys is : \", y)\n",
    "print(\"Number of girls is : \", z)"
   ]
  },
  {
   "cell_type": "markdown",
   "id": "3917927d",
   "metadata": {},
   "source": [
    "### Take Conditional Input from user in Python\n",
    "\n",
    "In this example, the program prompts the user to enter their age. \n",
    "\n",
    "The input is converted to an integer using the int() function. \n",
    "\n",
    "Then, the program uses conditional statements to check the age range and prints a message based on whether the user is a minor, an adult, or a senior citizen."
   ]
  },
  {
   "cell_type": "code",
   "execution_count": 8,
   "id": "dddcb396",
   "metadata": {},
   "outputs": [
    {
     "name": "stdout",
     "output_type": "stream",
     "text": [
      "You are an adult.\n"
     ]
    }
   ],
   "source": [
    "# Prompting the user for input\n",
    "age_input = input(\"Enter your age: \")\n",
    "\n",
    "# Converting the input to an integer\n",
    "age = int(age_input)\n",
    "\n",
    "# Checking conditions based on user input\n",
    "if age < 0:\n",
    "    print(\"Please enter a valid age.\")\n",
    "elif age < 18:\n",
    "    print(\"You are a minor.\")\n",
    "elif age >= 18 and age < 65:\n",
    "    print(\"You are an adult.\")\n",
    "else:\n",
    "    print(\"You are a senior citizen.\")"
   ]
  },
  {
   "cell_type": "markdown",
   "id": "399ca7ba",
   "metadata": {},
   "source": [
    "### How to Change the Type of Input in Python\n",
    "\n",
    "By default input() function helps in taking user input as string. If any user wants to take input as int or float, we just need to typecast it."
   ]
  },
  {
   "cell_type": "code",
   "execution_count": 10,
   "id": "b59c6506",
   "metadata": {},
   "outputs": [
    {
     "name": "stdout",
     "output_type": "stream",
     "text": [
      "Pink\n"
     ]
    }
   ],
   "source": [
    "# Taking input as string\n",
    "color = input(\"What color is rose?: \")\n",
    "print(color)"
   ]
  },
  {
   "cell_type": "markdown",
   "id": "0f460bfe",
   "metadata": {},
   "source": [
    "### Print Numbers in Python\n",
    "\n",
    "The code prompts the user to input an integer representing the number of roses, converts the input to an integer using typecasting and then prints the integer value."
   ]
  },
  {
   "cell_type": "code",
   "execution_count": 11,
   "id": "29af321b",
   "metadata": {},
   "outputs": [
    {
     "name": "stdout",
     "output_type": "stream",
     "text": [
      "10\n"
     ]
    }
   ],
   "source": [
    "# Taking input as int\n",
    "# Typecasting to int\n",
    "n = int(input(\"How many roses?: \"))\n",
    "print(n)"
   ]
  },
  {
   "cell_type": "markdown",
   "id": "f9c40929",
   "metadata": {},
   "source": [
    "### Print Float/Decimal Number in Python\n",
    "\n",
    "The code prompts the user to input the price of each rose as a floating-point number, converts the input to a float using typecasting and then prints the price."
   ]
  },
  {
   "cell_type": "code",
   "execution_count": 12,
   "id": "192e2335",
   "metadata": {},
   "outputs": [
    {
     "name": "stdout",
     "output_type": "stream",
     "text": [
      "10.0\n"
     ]
    }
   ],
   "source": [
    "# Taking input as float\n",
    "# Typecasting to float\n",
    "price = float(input(\"Price of each rose?: \"))\n",
    "print(price)"
   ]
  },
  {
   "cell_type": "markdown",
   "id": "68443d5b",
   "metadata": {},
   "source": [
    "### Find DataType of Input in Python\n",
    "\n",
    "In the given example, we are printing the type of variable x. We will determine the type of an object in Python."
   ]
  },
  {
   "cell_type": "code",
   "execution_count": 13,
   "id": "2d6b65c4",
   "metadata": {},
   "outputs": [
    {
     "name": "stdout",
     "output_type": "stream",
     "text": [
      "<class 'str'>\n",
      "<class 'int'>\n",
      "<class 'float'>\n",
      "<class 'tuple'>\n",
      "<class 'list'>\n",
      "<class 'dict'>\n"
     ]
    }
   ],
   "source": [
    "a = \"Hello World\"\n",
    "b = 10\n",
    "c = 11.22\n",
    "d = (\"I\", \"am\", \"King\")\n",
    "e = [\"I\", \"love\", \"Icecream\"]\n",
    "f = {\"Boys\": 10, \"Girls\":8}\n",
    "\n",
    "\n",
    "print(type(a))\n",
    "print(type(b))\n",
    "print(type(c))\n",
    "print(type(d))\n",
    "print(type(e))\n",
    "print(type(f))"
   ]
  },
  {
   "cell_type": "markdown",
   "id": "4cf4a3e7",
   "metadata": {},
   "source": [
    "### Type Casting in Python (Implicit and Explicit) with Examples\n",
    "\n",
    "Type Casting is the method to convert the Python variable datatype into a certain data type in order to perform the required operation by users. We will see the various techniques for typecasting. There can be two types of Type Casting in Python:\n",
    "\n",
    "    Python Implicit Type Conversion\n",
    "    Python Explicit Type Conversion"
   ]
  },
  {
   "cell_type": "markdown",
   "id": "c8d24f36",
   "metadata": {},
   "source": [
    "### Implicit Type Conversion in Python\n",
    "\n",
    "In this, method, Python converts the datatype into another datatype automatically. Users don’t have to involve in this process. "
   ]
  },
  {
   "cell_type": "code",
   "execution_count": 18,
   "id": "a7401e1e",
   "metadata": {},
   "outputs": [
    {
     "name": "stdout",
     "output_type": "stream",
     "text": [
      "a is: 7\n",
      "datatype for a is:  <class 'int'>\n",
      "b is: 3.0\n",
      "datatype for b is:  <class 'float'>\n",
      "c = a+b. So c is: 10.0\n",
      "datatype for c is:  <class 'float'>\n",
      "d = a*b. So d is: 21.0\n",
      "datatype for d is:  <class 'float'>\n"
     ]
    }
   ],
   "source": [
    "# Python program to demonstrate \n",
    "# implicit type Casting \n",
    "\n",
    "# Python automatically converts \n",
    "# a to int \n",
    "a = 7\n",
    "print(\"a is:\", a )\n",
    "print(\"datatype for a is: \", type(a)) \n",
    "\n",
    "# Python automatically converts \n",
    "# b to float \n",
    "b = 3.0\n",
    "print(\"b is:\", b )\n",
    "print(\"datatype for b is: \", type(b)) \n",
    "\n",
    "# Python automatically converts \n",
    "# c to float as it is a float addition \n",
    "c = a + b \n",
    "print(\"c = a+b. So c is:\", c )\n",
    "print(\"datatype for c is: \", type(c)) \n",
    "\n",
    "# Python automatically converts \n",
    "# d to float as it is a float multiplication\n",
    "d = a * b\n",
    "print(\"d = a*b. So d is:\", d )\n",
    "print(\"datatype for d is: \", type(d)) "
   ]
  },
  {
   "cell_type": "markdown",
   "id": "059de3bf",
   "metadata": {},
   "source": [
    "### Explicit Type Conversion in Python\n",
    "\n",
    "In this method, Python needs user involvement to convert the variable data type into the required data type. \n",
    "Examples of Type Casting in Python\n",
    "\n",
    "Mainly type casting can be done with these data type functions:\n",
    "\n",
    "    Int(): Python Int() function take float or string as an argument and returns int type object.\n",
    "    float(): Python float() function take int or string as an argument and return float type object.\n",
    "    str(): Python str() function takes float or int as an argument and returns string type object."
   ]
  },
  {
   "cell_type": "code",
   "execution_count": 27,
   "id": "38c21450",
   "metadata": {},
   "outputs": [
    {
     "name": "stdout",
     "output_type": "stream",
     "text": [
      "Python Convert Int to Float\n",
      "5 <class 'int'>\n",
      "5.0 <class 'float'>\n",
      "\n",
      "Python Convert Float to Int \n",
      "5.9\n",
      "<class 'float'>\n",
      "5\n",
      "<class 'int'>\n"
     ]
    }
   ],
   "source": [
    "print(\"Python Convert Int to Float\")\n",
    "# Python program to demonstrate \n",
    "# type Casting \n",
    "\n",
    "# int variable\n",
    "a = 5\n",
    "print(a, type(a))\n",
    "\n",
    "# typecast to float\n",
    "n = float(a)\n",
    "\n",
    "print(n, type(n))\n",
    "\n",
    "print() \n",
    "\n",
    "print(\"Python Convert Float to Int \")\n",
    "# int variable\n",
    "a = 5.9\n",
    "print(a)\n",
    "print(type(a))\n",
    "\n",
    "# typecast to int\n",
    "n = int(a)\n",
    "\n",
    "print(n)\n",
    "print(type(n))"
   ]
  },
  {
   "cell_type": "code",
   "execution_count": 29,
   "id": "2ba28c4f",
   "metadata": {},
   "outputs": [
    {
     "name": "stdout",
     "output_type": "stream",
     "text": [
      "Python Convert int to String \n",
      "5\n",
      "<class 'int'>\n",
      "5\n",
      "<class 'str'>\n",
      "\n",
      "Python Convert String to float\n",
      "5.9\n",
      "<class 'str'>\n",
      "5.9\n",
      "<class 'float'>\n"
     ]
    }
   ],
   "source": [
    "print(\"Python Convert int to String \")\n",
    "# Python program to demonstrate \n",
    "# type Casting \n",
    "\n",
    "# int variable\n",
    "a = 5\n",
    "print(a)\n",
    "print(type(a))\n",
    "\n",
    "# typecast to str\n",
    "n = str(a)\n",
    "\n",
    "print(n)\n",
    "print(type(n))\n",
    "\n",
    "print()\n",
    "print(\"Python Convert String to float\")\n",
    "# Python program to demonstrate \n",
    "# type Casting \n",
    "\n",
    "# string variable\n",
    "a = \"5.9\"\n",
    "print(a)\n",
    "print(type(a))\n",
    "\n",
    "# typecast to float\n",
    "n = float(a)\n",
    "\n",
    "print(n)\n",
    "print(type(n))"
   ]
  },
  {
   "cell_type": "code",
   "execution_count": 32,
   "id": "469d28fc",
   "metadata": {},
   "outputs": [
    {
     "name": "stdout",
     "output_type": "stream",
     "text": [
      "Python Convert string to int\n",
      "5\n",
      "<class 'int'>\n",
      "t <class 'str'>\n"
     ]
    },
    {
     "ename": "ValueError",
     "evalue": "invalid literal for int() with base 10: 't'",
     "output_type": "error",
     "traceback": [
      "\u001b[31m---------------------------------------------------------------------------\u001b[39m",
      "\u001b[31mValueError\u001b[39m                                Traceback (most recent call last)",
      "\u001b[36mCell\u001b[39m\u001b[36m \u001b[39m\u001b[32mIn[32]\u001b[39m\u001b[32m, line 14\u001b[39m\n\u001b[32m     11\u001b[39m \u001b[38;5;28mprint\u001b[39m(\u001b[38;5;28mtype\u001b[39m(n))\n\u001b[32m     13\u001b[39m \u001b[38;5;28mprint\u001b[39m(b, \u001b[38;5;28mtype\u001b[39m(b))\n\u001b[32m---> \u001b[39m\u001b[32m14\u001b[39m \u001b[38;5;28mprint\u001b[39m(\u001b[38;5;28;43mint\u001b[39;49m\u001b[43m(\u001b[49m\u001b[43mb\u001b[49m\u001b[43m)\u001b[49m)\n",
      "\u001b[31mValueError\u001b[39m: invalid literal for int() with base 10: 't'"
     ]
    }
   ],
   "source": [
    "print(\"Python Convert string to int\")\n",
    "\n",
    "# string variable\n",
    "a = \"5\"\n",
    "b = 't'\n",
    "\n",
    "# typecast to int\n",
    "n = int(a)\n",
    "\n",
    "print(n)\n",
    "print(type(n))\n",
    "\n",
    "print(b, type(b))\n",
    "print(int(b))\n"
   ]
  },
  {
   "cell_type": "markdown",
   "id": "cc1569f2",
   "metadata": {},
   "source": [
    "### Output Formatting\n",
    "\n",
    "Output formatting in Python with various techniques including\n",
    " \n",
    "    format() method \n",
    "    manipulation of the sep and end parameters\n",
    "    f-strings and \n",
    "    the versatile % operator. \n",
    "\n",
    "These methods enable precise control over how data is displayed, enhancing the readability and effectiveness of your Python programs."
   ]
  },
  {
   "cell_type": "markdown",
   "id": "61ffc173",
   "metadata": {},
   "source": [
    "### Example 1: Using Format()"
   ]
  },
  {
   "cell_type": "code",
   "execution_count": 38,
   "id": "7cfbf0a1",
   "metadata": {},
   "outputs": [
    {
     "name": "stdout",
     "output_type": "stream",
     "text": [
      "Amount: 150\n",
      "Amount: $150.75\n",
      "Amount: $150.75\n"
     ]
    }
   ],
   "source": [
    "amount1 = 150\n",
    "print(\"Amount: {}\".format(amount1))\n",
    "\n",
    "amount2 = 150.75\n",
    "print(\"Amount: ${:.2f}\".format(amount2))\n",
    "\n",
    "amount3 = 150.75\n",
    "print(\"Amount: ${}\".format(amount3))"
   ]
  },
  {
   "cell_type": "markdown",
   "id": "eb4b71c5",
   "metadata": {},
   "source": [
    "### Example 2: Using sep and end parameter"
   ]
  },
  {
   "cell_type": "code",
   "execution_count": 40,
   "id": "465862f2",
   "metadata": {},
   "outputs": [
    {
     "name": "stdout",
     "output_type": "stream",
     "text": [
      "Python@BestCodingLanguage\n",
      "GFH\n",
      "09-12-2016\n",
      "Google@AI\n"
     ]
    }
   ],
   "source": [
    "# end Parameter with '@'\n",
    "print(\"Python\", end='@')\n",
    "print(\"BestCodingLanguage\")\n",
    "\n",
    "\n",
    "# Seprating with Comma\n",
    "print('G', 'F', 'H', sep='')\n",
    "\n",
    "# for formatting a date\n",
    "print('09', '12', '2016', sep='-')\n",
    "\n",
    "# another example\n",
    "print('Google', 'AI', sep='@')"
   ]
  },
  {
   "cell_type": "markdown",
   "id": "c49425e4",
   "metadata": {},
   "source": [
    "### Example 3: Using f-string"
   ]
  },
  {
   "cell_type": "code",
   "execution_count": 41,
   "id": "b00e08b3",
   "metadata": {},
   "outputs": [
    {
     "name": "stdout",
     "output_type": "stream",
     "text": [
      "Hello, My name is Sachin and I'm 23 years old.\n"
     ]
    }
   ],
   "source": [
    "name = 'Sachin'\n",
    "age = 23\n",
    "print(f\"Hello, My name is {name} and I'm {age} years old.\")"
   ]
  },
  {
   "cell_type": "markdown",
   "id": "44c92ba6",
   "metadata": {},
   "source": [
    "### Example 4: Using % Operator\n",
    "\n",
    "We can use ‘%’ operator. \n",
    "\n",
    "% values are replaced with zero or more value of elements. \n",
    "\n",
    "The formatting using % is similar to that of ‘printf’ in the C programming language.\n",
    "\n",
    "    %d –integer\n",
    "    %f – float\n",
    "    %s – string\n",
    "    %x –hexadecimal\n",
    "    %o – octal\n",
    "\n"
   ]
  },
  {
   "cell_type": "code",
   "execution_count": 44,
   "id": "37db76c6",
   "metadata": {},
   "outputs": [
    {
     "name": "stdout",
     "output_type": "stream",
     "text": [
      "The sum is 17\n"
     ]
    }
   ],
   "source": [
    "# Taking input from the user\n",
    "num = int(input(\"Enter a value: \"))\n",
    "\n",
    "add = num + 5\n",
    "\n",
    "# Output\n",
    "print(\"The sum is %d\" %add)"
   ]
  },
  {
   "cell_type": "code",
   "execution_count": 45,
   "id": "135f278d",
   "metadata": {},
   "outputs": [
    {
     "name": "stdout",
     "output_type": "stream",
     "text": [
      "The sum is 16.500000\n"
     ]
    }
   ],
   "source": [
    "# Taking input from the user\n",
    "num = float(input(\"Enter a value: \"))\n",
    "\n",
    "add = num + 5\n",
    "\n",
    "# Output\n",
    "print(\"The sum is %f\" %add)"
   ]
  },
  {
   "cell_type": "code",
   "execution_count": 47,
   "id": "71425cc3",
   "metadata": {},
   "outputs": [
    {
     "name": "stdout",
     "output_type": "stream",
     "text": [
      "The name is rahul\n"
     ]
    }
   ],
   "source": [
    "# Taking input from the user\n",
    "name = str(input(\"Enter a name: \"))\n",
    "\n",
    "# Output\n",
    "print(\"The name is %s\" %name)"
   ]
  },
  {
   "cell_type": "code",
   "execution_count": null,
   "id": "005346a1",
   "metadata": {},
   "outputs": [],
   "source": []
  }
 ],
 "metadata": {
  "kernelspec": {
   "display_name": "Python 3",
   "language": "python",
   "name": "python3"
  },
  "language_info": {
   "codemirror_mode": {
    "name": "ipython",
    "version": 3
   },
   "file_extension": ".py",
   "mimetype": "text/x-python",
   "name": "python",
   "nbconvert_exporter": "python",
   "pygments_lexer": "ipython3",
   "version": "3.12.9"
  }
 },
 "nbformat": 4,
 "nbformat_minor": 5
}
