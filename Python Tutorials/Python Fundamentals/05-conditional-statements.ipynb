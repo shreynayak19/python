{
 "cells": [
  {
   "cell_type": "markdown",
   "id": "2286a1b8",
   "metadata": {},
   "source": [
    "# Conditional Statements in Python"
   ]
  },
  {
   "cell_type": "markdown",
   "id": "74e66246",
   "metadata": {},
   "source": [
    "Conditional statements in Python are used to execute certain blocks of code based on specific conditions. \n",
    "\n",
    "These statements help control the flow of a program, making it behave differently in different situations.\n",
    "\n",
    "If Conditional Statement in Python\n",
    "\n",
    "If statement is the simplest form of a conditional statement. It executes a block of code if the given condition is true."
   ]
  },
  {
   "cell_type": "code",
   "execution_count": 1,
   "id": "70d8d146",
   "metadata": {},
   "outputs": [
    {
     "name": "stdout",
     "output_type": "stream",
     "text": [
      "Eligible to vote.\n"
     ]
    }
   ],
   "source": [
    "age = 20\n",
    "\n",
    "if age >= 18:\n",
    "    print(\"Eligible to vote.\")"
   ]
  },
  {
   "cell_type": "markdown",
   "id": "238b328e",
   "metadata": {},
   "source": [
    "Short Hand if\n",
    "\n",
    "Short-hand if statement allows us to write a single-line if statement. "
   ]
  },
  {
   "cell_type": "code",
   "execution_count": 2,
   "id": "7ae36dae",
   "metadata": {},
   "outputs": [
    {
     "name": "stdout",
     "output_type": "stream",
     "text": [
      "Eligible to Vote.\n"
     ]
    }
   ],
   "source": [
    "age = 19\n",
    "if age > 18: print(\"Eligible to Vote.\")"
   ]
  },
  {
   "cell_type": "markdown",
   "id": "fd9c9827",
   "metadata": {},
   "source": [
    "If else Conditional Statements in Python\n",
    "\n",
    "Else allows us to specify a block of code that will execute if the condition(s) associated with an if or elif statement evaluates to False.\n",
    "\n",
    "Else block provides a way to handle all other cases that don't meet the specified conditions."
   ]
  },
  {
   "cell_type": "code",
   "execution_count": 3,
   "id": "234e0a8d",
   "metadata": {},
   "outputs": [
    {
     "name": "stdout",
     "output_type": "stream",
     "text": [
      "Travel for free.\n"
     ]
    }
   ],
   "source": [
    "age = 10\n",
    "\n",
    "if age <= 12:\n",
    "    print(\"Travel for free.\")\n",
    "else:\n",
    "    print(\"Pay for ticket.\")"
   ]
  },
  {
   "cell_type": "markdown",
   "id": "d5635817",
   "metadata": {},
   "source": [
    "Short Hand if-else\n",
    "\n",
    "The short-hand if-else statement allows us to write a single-line if-else statement."
   ]
  },
  {
   "cell_type": "code",
   "execution_count": 4,
   "id": "ebabae18",
   "metadata": {},
   "outputs": [
    {
     "name": "stdout",
     "output_type": "stream",
     "text": [
      "Result: Pass\n"
     ]
    }
   ],
   "source": [
    "marks = 45\n",
    "res = \"Pass\" if marks >= 40 else \"Fail\"\n",
    "\n",
    "print(f\"Result: {res}\")"
   ]
  },
  {
   "cell_type": "markdown",
   "id": "a605635b",
   "metadata": {},
   "source": [
    "elif Statement\n",
    "\n",
    "elif statement in Python stands for \"else if.\" \n",
    "\n",
    "It allows us to check multiple conditions , providing a way to execute different blocks of code based on which condition is true. \n",
    "\n",
    "Using elif statements makes our code more readable and efficient by eliminating the need for multiple nested if statements."
   ]
  },
  {
   "cell_type": "code",
   "execution_count": 5,
   "id": "617f8930",
   "metadata": {},
   "outputs": [
    {
     "name": "stdout",
     "output_type": "stream",
     "text": [
      "Young adult.\n"
     ]
    }
   ],
   "source": [
    "age = 25\n",
    "\n",
    "if age <= 12:\n",
    "    print(\"Child.\")\n",
    "elif age <= 19:\n",
    "    print(\"Teenager.\")\n",
    "elif age <= 35:\n",
    "    print(\"Young adult.\")\n",
    "else:\n",
    "    print(\"Adult.\")"
   ]
  },
  {
   "cell_type": "markdown",
   "id": "4113a0cb",
   "metadata": {},
   "source": [
    "Nested if..else Conditional Statements in Python\n",
    "\n",
    "Nested if..else means an if-else statement inside another if statement. \n",
    "\n",
    "We can use nested if statements to check conditions within conditions."
   ]
  },
  {
   "cell_type": "code",
   "execution_count": 6,
   "id": "55bb5225",
   "metadata": {},
   "outputs": [
    {
     "name": "stdout",
     "output_type": "stream",
     "text": [
      "30% senior discount!\n"
     ]
    }
   ],
   "source": [
    "age = 70\n",
    "is_member = True\n",
    "\n",
    "if age >= 60:\n",
    "    if is_member:\n",
    "        print(\"30% senior discount!\")\n",
    "    else:\n",
    "        print(\"20% senior discount.\")\n",
    "else:\n",
    "    print(\"Not eligible for a senior discount.\")"
   ]
  },
  {
   "cell_type": "markdown",
   "id": "c4deabd4",
   "metadata": {},
   "source": [
    "Ternary Conditional Statement in Python\n",
    "\n",
    "A ternary conditional statement is a compact way to write an if-else condition in a single line. It’s sometimes called a \"conditional expression.\""
   ]
  },
  {
   "cell_type": "code",
   "execution_count": 7,
   "id": "995cfead",
   "metadata": {},
   "outputs": [
    {
     "name": "stdout",
     "output_type": "stream",
     "text": [
      "Adult\n"
     ]
    }
   ],
   "source": [
    "# Assign a value based on a condition\n",
    "age = 20\n",
    "s = \"Adult\" if age >= 18 else \"Minor\"\n",
    "\n",
    "print(s)"
   ]
  },
  {
   "cell_type": "markdown",
   "id": "e1f4123c",
   "metadata": {},
   "source": [
    "Match-Case Statement in Python\n",
    "\n",
    "match-case statement is Python's version of a switch-case found in other languages. \n",
    "\n",
    "It allows us to match a variable's value against a set of patterns.\n",
    "\n"
   ]
  },
  {
   "cell_type": "code",
   "execution_count": 8,
   "id": "5dee78ba",
   "metadata": {},
   "outputs": [
    {
     "name": "stdout",
     "output_type": "stream",
     "text": [
      "Two or Three\n"
     ]
    }
   ],
   "source": [
    "number = 2\n",
    "\n",
    "match number:\n",
    "    case 1:\n",
    "        print(\"One\")\n",
    "    case 2 | 3:\n",
    "        print(\"Two or Three\")\n",
    "    case _:\n",
    "        print(\"Other number\")"
   ]
  }
 ],
 "metadata": {
  "kernelspec": {
   "display_name": "Python 3",
   "language": "python",
   "name": "python3"
  },
  "language_info": {
   "codemirror_mode": {
    "name": "ipython",
    "version": 3
   },
   "file_extension": ".py",
   "mimetype": "text/x-python",
   "name": "python",
   "nbconvert_exporter": "python",
   "pygments_lexer": "ipython3",
   "version": "3.12.9"
  }
 },
 "nbformat": 4,
 "nbformat_minor": 5
}
