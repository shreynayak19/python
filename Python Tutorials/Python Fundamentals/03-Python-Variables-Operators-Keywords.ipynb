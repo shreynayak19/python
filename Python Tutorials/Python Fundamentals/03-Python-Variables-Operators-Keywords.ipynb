{
 "cells": [
  {
   "cell_type": "markdown",
   "id": "4544d30c",
   "metadata": {},
   "source": [
    "# Python Variables\n",
    "\n",
    "     \n",
    "\n",
    "In Python, variables are used to store data that can be referenced and manipulated during program execution. \n",
    "\n",
    "A variable is essentially a name that is assigned to a value. Unlike many other programming languages, Python variables do not require explicit declaration of type.\n",
    "\n",
    "The type of the variable is inferred based on the value assigned.\n",
    "\n",
    "Variables act as placeholders for data. They allow us to store and reuse values in our program."
   ]
  },
  {
   "cell_type": "code",
   "execution_count": 1,
   "id": "5ea37f1d",
   "metadata": {},
   "outputs": [
    {
     "name": "stdout",
     "output_type": "stream",
     "text": [
      "5\n",
      "Samantha\n"
     ]
    }
   ],
   "source": [
    "# Variable 'x' stores the integer value 10\n",
    "x = 5\n",
    "\n",
    "# Variable 'name' stores the string \"Samantha\"\n",
    "name = \"Samantha\"  \n",
    "\n",
    "print(x)\n",
    "print(name)"
   ]
  },
  {
   "cell_type": "markdown",
   "id": "55a5ab69",
   "metadata": {},
   "source": [
    "### Rules for Naming Variables\n",
    "\n",
    "To use variables effectively, we must follow Python’s naming rules:\n",
    "\n",
    "    Variable names can only contain letters, digits and underscores (_).\n",
    "    A variable name cannot start with a digit.\n",
    "    Variable names are case-sensitive (myVar and myvar are different).\n",
    "    Avoid using Python keywords (e.g., if, else, for) as variable names."
   ]
  },
  {
   "cell_type": "code",
   "execution_count": 2,
   "id": "58888388",
   "metadata": {},
   "outputs": [],
   "source": [
    "age = 21\n",
    "_colour = \"lilac\"\n",
    "total_score = 90"
   ]
  },
  {
   "cell_type": "code",
   "execution_count": 3,
   "id": "6d3753af",
   "metadata": {},
   "outputs": [
    {
     "ename": "SyntaxError",
     "evalue": "invalid decimal literal (2089968379.py, line 1)",
     "output_type": "error",
     "traceback": [
      "  \u001b[36mCell\u001b[39m\u001b[36m \u001b[39m\u001b[32mIn[3]\u001b[39m\u001b[32m, line 1\u001b[39m\n\u001b[31m    \u001b[39m\u001b[31m1name = \"Error\"  # Starts with a digit\u001b[39m\n    ^\n\u001b[31mSyntaxError\u001b[39m\u001b[31m:\u001b[39m invalid decimal literal\n"
     ]
    }
   ],
   "source": [
    "1name = \"Error\"  # Starts with a digit\n",
    "class = 10       # 'class' is a reserved keyword\n",
    "user-name = \"Doe\"  # Contains a hyphen"
   ]
  },
  {
   "cell_type": "markdown",
   "id": "3f7f6cab",
   "metadata": {},
   "source": [
    "### Assigning Values to Variables\n",
    "\n",
    "Basic Assignment\n",
    "\n",
    "Variables in Python are assigned values using the = operator."
   ]
  },
  {
   "cell_type": "code",
   "execution_count": 4,
   "id": "50fea515",
   "metadata": {},
   "outputs": [],
   "source": [
    "x = 5\n",
    "y = 3.14\n",
    "z = \"Hi\""
   ]
  },
  {
   "cell_type": "markdown",
   "id": "c3820008",
   "metadata": {},
   "source": [
    "Dynamic Typing\n",
    "\n",
    "Python variables are dynamically typed, meaning the same variable can hold different types of values during execution."
   ]
  },
  {
   "cell_type": "code",
   "execution_count": 5,
   "id": "5c968220",
   "metadata": {},
   "outputs": [],
   "source": [
    "x = 10\n",
    "x = \"Now a string\""
   ]
  },
  {
   "cell_type": "markdown",
   "id": "922e809f",
   "metadata": {},
   "source": [
    "Multiple Assignments\n",
    "\n",
    "Python allows multiple variables to be assigned values in a single line.\n",
    "Assigning the Same Value\n",
    "\n",
    "Python allows assigning the same value to multiple variables in a single line, which can be useful for initializing variables with the same value."
   ]
  },
  {
   "cell_type": "code",
   "execution_count": 6,
   "id": "6b4f6b3b",
   "metadata": {},
   "outputs": [
    {
     "name": "stdout",
     "output_type": "stream",
     "text": [
      "100 100 100\n"
     ]
    }
   ],
   "source": [
    "a = b = c = 100\n",
    "print(a, b, c)"
   ]
  },
  {
   "cell_type": "markdown",
   "id": "aed0607e",
   "metadata": {},
   "source": [
    "Assigning Different Values\n",
    "\n",
    "We can assign different values to multiple variables simultaneously, making the code concise and easier to read."
   ]
  },
  {
   "cell_type": "code",
   "execution_count": 7,
   "id": "df7a4878",
   "metadata": {},
   "outputs": [
    {
     "name": "stdout",
     "output_type": "stream",
     "text": [
      "1 2.5 Python\n"
     ]
    }
   ],
   "source": [
    "x, y, z = 1, 2.5, \"Python\"\n",
    "print(x, y, z)"
   ]
  },
  {
   "cell_type": "markdown",
   "id": "99b55267",
   "metadata": {},
   "source": [
    "Type Casting a Variable\n",
    "\n",
    "Type casting refers to the process of converting the value of one data type into another. Python provides several built-in functions to facilitate casting, including int(), float() and str() among others.\n",
    "Basic Casting Functions\n",
    "\n",
    "    int() – Converts compatible values to an integer.\n",
    "    float() – Transforms values into floating-point numbers.\n",
    "    str() – Converts any data type into a string."
   ]
  },
  {
   "cell_type": "code",
   "execution_count": 8,
   "id": "26e42be0",
   "metadata": {},
   "outputs": [
    {
     "name": "stdout",
     "output_type": "stream",
     "text": [
      "10\n",
      "5.0\n",
      "25\n"
     ]
    }
   ],
   "source": [
    "# Casting variables\n",
    "s = \"10\"  # Initially a string\n",
    "n = int(s)  # Cast string to integer\n",
    "cnt = 5\n",
    "f = float(cnt)  # Cast integer to float\n",
    "age = 25\n",
    "s2 = str(age)  # Cast integer to string\n",
    "\n",
    "# Display results\n",
    "print(n)  \n",
    "print(f)  \n",
    "print(s2)"
   ]
  },
  {
   "cell_type": "markdown",
   "id": "c734cc5d",
   "metadata": {},
   "source": [
    "### Getting the Type of Variable\n",
    "\n",
    "In Python, we can determine the type of a variable using the type() function. This built-in function returns the type of the object passed to it.\n",
    "\n",
    "Example Usage of type()"
   ]
  },
  {
   "cell_type": "code",
   "execution_count": 9,
   "id": "41950c33",
   "metadata": {},
   "outputs": [
    {
     "name": "stdout",
     "output_type": "stream",
     "text": [
      "<class 'int'>\n",
      "<class 'float'>\n",
      "<class 'str'>\n",
      "<class 'list'>\n",
      "<class 'dict'>\n",
      "<class 'bool'>\n"
     ]
    }
   ],
   "source": [
    "# Define variables with different data types\n",
    "n = 42\n",
    "f = 3.14\n",
    "s = \"Hello, World!\"\n",
    "li = [1, 2, 3]\n",
    "d = {'key': 'value'}\n",
    "bool = True\n",
    "\n",
    "# Get and print the type of each variable\n",
    "print(type(n))   \n",
    "print(type(f)) \n",
    "print(type(s))   \n",
    "print(type(li))     \n",
    "print(type(d))     \n",
    "print(type(bool))"
   ]
  },
  {
   "cell_type": "markdown",
   "id": "73302d99",
   "metadata": {},
   "source": [
    "# Python Operators"
   ]
  },
  {
   "cell_type": "markdown",
   "id": "30837ba8",
   "metadata": {},
   "source": [
    "In Python programming, Operators in general are used to perform operations on values and variables. These are standard symbols used for logical and arithmetic operations. In this article, we will look into different types of Python operators. \n",
    "\n",
    "    OPERATORS: These are the special symbols. Eg- + , * , /, etc.\n",
    "    OPERAND: It is the value on which the operator is applied.\n",
    "\n",
    "Types of Operators in Python\n",
    "\n",
    "    Arithmetic Operators\n",
    "    Comparison Operators\n",
    "    Logical Operators\n",
    "    Bitwise Operators\n",
    "    Assignment Operators\n",
    "    Identity Operators and Membership Operators"
   ]
  },
  {
   "cell_type": "markdown",
   "id": "95b1fff0",
   "metadata": {},
   "source": [
    "Arithmetic Operators in Python"
   ]
  },
  {
   "cell_type": "code",
   "execution_count": 1,
   "id": "0b42f327",
   "metadata": {},
   "outputs": [
    {
     "name": "stdout",
     "output_type": "stream",
     "text": [
      "Addition: 19\n",
      "Subtraction: 11\n",
      "Multiplication: 60\n",
      "Division: 3.75\n",
      "Floor Division: 3\n",
      "Modulus: 3\n",
      "Exponentiation: 50625\n"
     ]
    }
   ],
   "source": [
    "# Variables\n",
    "a = 15\n",
    "b = 4\n",
    "\n",
    "# Addition\n",
    "print(\"Addition:\", a + b)  \n",
    "\n",
    "# Subtraction\n",
    "print(\"Subtraction:\", a - b) \n",
    "\n",
    "# Multiplication\n",
    "print(\"Multiplication:\", a * b)  \n",
    "\n",
    "# Division\n",
    "print(\"Division:\", a / b) \n",
    "\n",
    "# Floor Division\n",
    "print(\"Floor Division:\", a // b)  \n",
    "\n",
    "# Modulus\n",
    "print(\"Modulus:\", a % b) \n",
    "\n",
    "# Exponentiation\n",
    "print(\"Exponentiation:\", a ** b)"
   ]
  },
  {
   "cell_type": "markdown",
   "id": "1b633afb",
   "metadata": {},
   "source": [
    "Comparison of Python Operators"
   ]
  },
  {
   "cell_type": "code",
   "execution_count": 2,
   "id": "fffd2a76",
   "metadata": {},
   "outputs": [
    {
     "name": "stdout",
     "output_type": "stream",
     "text": [
      "False\n",
      "True\n",
      "False\n",
      "True\n",
      "False\n",
      "True\n"
     ]
    }
   ],
   "source": [
    "a = 13\n",
    "b = 33\n",
    "\n",
    "print(a > b)\n",
    "print(a < b)\n",
    "print(a == b)\n",
    "print(a != b)\n",
    "print(a >= b)\n",
    "print(a <= b)"
   ]
  },
  {
   "cell_type": "markdown",
   "id": "8e10b487",
   "metadata": {},
   "source": [
    "Logical Operators in Python"
   ]
  },
  {
   "cell_type": "code",
   "execution_count": 6,
   "id": "4b94139f",
   "metadata": {},
   "outputs": [
    {
     "name": "stdout",
     "output_type": "stream",
     "text": [
      "False\n",
      "True\n",
      "False\n"
     ]
    }
   ],
   "source": [
    "a = True\n",
    "b = False\n",
    "print(a and b)\n",
    "print(a or b)\n",
    "print(not a)"
   ]
  },
  {
   "cell_type": "markdown",
   "id": "89e9a7b0",
   "metadata": {},
   "source": [
    "Bitwise Operators in Python"
   ]
  },
  {
   "cell_type": "code",
   "execution_count": 7,
   "id": "a354c037",
   "metadata": {},
   "outputs": [
    {
     "name": "stdout",
     "output_type": "stream",
     "text": [
      "0\n",
      "14\n",
      "-11\n",
      "14\n",
      "2\n",
      "40\n"
     ]
    }
   ],
   "source": [
    "a = 10\n",
    "b = 4\n",
    "\n",
    "print(a & b)\n",
    "print(a | b)\n",
    "print(~a)\n",
    "print(a ^ b)\n",
    "print(a >> 2)\n",
    "print(a << 2)"
   ]
  },
  {
   "cell_type": "markdown",
   "id": "ddd97f19",
   "metadata": {},
   "source": [
    "Assignment Operators in Python"
   ]
  },
  {
   "cell_type": "code",
   "execution_count": 8,
   "id": "8f87a6b9",
   "metadata": {},
   "outputs": [
    {
     "name": "stdout",
     "output_type": "stream",
     "text": [
      "10\n",
      "20\n",
      "10\n",
      "100\n",
      "102400\n"
     ]
    }
   ],
   "source": [
    "a = 10\n",
    "b = a\n",
    "print(b)\n",
    "b += a\n",
    "print(b)\n",
    "b -= a\n",
    "print(b)\n",
    "b *= a\n",
    "print(b)\n",
    "b <<= a\n",
    "print(b)"
   ]
  },
  {
   "cell_type": "markdown",
   "id": "e9fd95b7",
   "metadata": {},
   "source": [
    "Identity Operators in Python"
   ]
  },
  {
   "cell_type": "code",
   "execution_count": 9,
   "id": "ed991583",
   "metadata": {},
   "outputs": [
    {
     "name": "stdout",
     "output_type": "stream",
     "text": [
      "True\n",
      "True\n"
     ]
    }
   ],
   "source": [
    "a = 10\n",
    "b = 20\n",
    "c = a\n",
    "\n",
    "print(a is not b)\n",
    "print(a is c)"
   ]
  },
  {
   "cell_type": "markdown",
   "id": "0cd63f6b",
   "metadata": {},
   "source": [
    "Membership Operators in Python"
   ]
  },
  {
   "cell_type": "code",
   "execution_count": 11,
   "id": "4bbbe70a",
   "metadata": {},
   "outputs": [
    {
     "name": "stdout",
     "output_type": "stream",
     "text": [
      "x is NOT present in given list\n",
      "y is present in given list\n"
     ]
    }
   ],
   "source": [
    "x = 24\n",
    "y = 20\n",
    "list = [10, 20, 30, 40, 50]\n",
    "\n",
    "if (x not in list):\n",
    "    print(\"x is NOT present in given list\")\n",
    "else:\n",
    "    print(\"x is present in given list\")\n",
    "\n",
    "if (y in list):\n",
    "    print(\"y is present in given list\")\n",
    "else:\n",
    "    print(\"y is NOT present in given list\")"
   ]
  },
  {
   "cell_type": "markdown",
   "id": "99fc2d96",
   "metadata": {},
   "source": [
    "Ternary Operator in Python"
   ]
  },
  {
   "cell_type": "code",
   "execution_count": 12,
   "id": "3b17c930",
   "metadata": {},
   "outputs": [
    {
     "name": "stdout",
     "output_type": "stream",
     "text": [
      "10\n"
     ]
    }
   ],
   "source": [
    "a, b = 10, 20\n",
    "min = a if a < b else b\n",
    "\n",
    "print(min)"
   ]
  },
  {
   "cell_type": "markdown",
   "id": "c82c881c",
   "metadata": {},
   "source": [
    "Precedence and Associativity of Operators in Python"
   ]
  },
  {
   "cell_type": "code",
   "execution_count": 13,
   "id": "360784a1",
   "metadata": {},
   "outputs": [
    {
     "name": "stdout",
     "output_type": "stream",
     "text": [
      "610\n",
      "Hello! Welcome.\n"
     ]
    }
   ],
   "source": [
    "expr = 10 + 20 * 30\n",
    "print(expr)\n",
    "name = \"Alex\"\n",
    "age = 0\n",
    "\n",
    "if name == \"Alex\" or name == \"John\" and age >= 2:\n",
    "    print(\"Hello! Welcome.\")\n",
    "else:\n",
    "    print(\"Good Bye!!\")"
   ]
  },
  {
   "cell_type": "markdown",
   "id": "dd06c0eb",
   "metadata": {},
   "source": [
    "Operator Associativity in Python"
   ]
  },
  {
   "cell_type": "code",
   "execution_count": 14,
   "id": "67553549",
   "metadata": {},
   "outputs": [
    {
     "name": "stdout",
     "output_type": "stream",
     "text": [
      "100.0\n",
      "6\n",
      "0\n",
      "512\n"
     ]
    }
   ],
   "source": [
    "print(100 / 10 * 10)\n",
    "print(5 - 2 + 3)\n",
    "print(5 - (2 + 3))\n",
    "print(2 ** 3 ** 2)"
   ]
  },
  {
   "cell_type": "markdown",
   "id": "2c16f4fe",
   "metadata": {},
   "source": [
    "# Python Keywords\n",
    "\n",
    "Keywords in Python are reserved words that have special meanings and serve specific purposes in the language syntax. \n",
    "\n",
    "Python keywords cannot be used as the names of variables, functions, and classes or any other identifier. "
   ]
  },
  {
   "cell_type": "code",
   "execution_count": 15,
   "id": "f2f29173",
   "metadata": {},
   "outputs": [
    {
     "name": "stdout",
     "output_type": "stream",
     "text": [
      "The list of keywords is : \n",
      "['False', 'None', 'True', 'and', 'as', 'assert', 'async', 'await', 'break', 'class', 'continue', 'def', 'del', 'elif', 'else', 'except', 'finally', 'for', 'from', 'global', 'if', 'import', 'in', 'is', 'lambda', 'nonlocal', 'not', 'or', 'pass', 'raise', 'return', 'try', 'while', 'with', 'yield']\n"
     ]
    }
   ],
   "source": [
    "import keyword\n",
    "\n",
    "# printing all keywords at once using \"kwlist()\"\n",
    "print(\"The list of keywords is : \")\n",
    "print(keyword.kwlist)"
   ]
  }
 ],
 "metadata": {
  "kernelspec": {
   "display_name": "venv",
   "language": "python",
   "name": "python3"
  },
  "language_info": {
   "codemirror_mode": {
    "name": "ipython",
    "version": 3
   },
   "file_extension": ".py",
   "mimetype": "text/x-python",
   "name": "python",
   "nbconvert_exporter": "python",
   "pygments_lexer": "ipython3",
   "version": "3.12.9"
  }
 },
 "nbformat": 4,
 "nbformat_minor": 5
}
