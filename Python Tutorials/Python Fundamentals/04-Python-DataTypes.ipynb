{
 "cells": [
  {
   "cell_type": "markdown",
   "id": "5587f478",
   "metadata": {},
   "source": [
    "\n",
    "# Python Data Types\n",
    "\n",
    "\n",
    "Python Data types are the classification or categorization of data items. It represents the kind of value that tells what operations can be performed on a particular data. Since everything is an object in Python programming, Python data types are classes and variables are instances (objects) of these classes. The following are the standard or built-in data types in Python:\n",
    "\n",
    "    Numeric – int, float, complex\n",
    "    Sequence Type – string, list, tuple\n",
    "    Mapping Type – dict\n",
    "    Boolean – bool\n",
    "    Set Type – set, frozenset\n",
    "    Binary Types – bytes, bytearray, memoryview"
   ]
  },
  {
   "cell_type": "code",
   "execution_count": 1,
   "id": "538885e6",
   "metadata": {},
   "outputs": [],
   "source": [
    "#  int, float, string, list and set\n",
    "x = 50\n",
    "x = 60.5\n",
    "x = \"Hello World\"\n",
    "x = [\"geeks\", \"for\", \"geeks\"]\n",
    "x = (\"geeks\", \"for\", \"geeks\")"
   ]
  },
  {
   "cell_type": "markdown",
   "id": "1776f123",
   "metadata": {},
   "source": [
    "### Numeric Data Types in Python"
   ]
  },
  {
   "cell_type": "code",
   "execution_count": 2,
   "id": "897671f2",
   "metadata": {},
   "outputs": [
    {
     "name": "stdout",
     "output_type": "stream",
     "text": [
      "<class 'int'>\n",
      "<class 'float'>\n",
      "<class 'complex'>\n"
     ]
    }
   ],
   "source": [
    "a = 5\n",
    "print(type(a))\n",
    "\n",
    "b = 5.0\n",
    "print(type(b))\n",
    "\n",
    "c = 2 + 4j\n",
    "print(type(c))"
   ]
  },
  {
   "cell_type": "markdown",
   "id": "b0044ea3",
   "metadata": {},
   "source": [
    "### Sequence Data Types in Python \n",
    "\n",
    "String Data Type"
   ]
  },
  {
   "cell_type": "code",
   "execution_count": 4,
   "id": "df5e0c56",
   "metadata": {},
   "outputs": [
    {
     "name": "stdout",
     "output_type": "stream",
     "text": [
      "Welcome to the Geeks World\n",
      "<class 'str'>\n",
      "e\n",
      "l\n",
      "d\n"
     ]
    }
   ],
   "source": [
    "s = 'Welcome to the Geeks World'\n",
    "print(s)\n",
    "\n",
    "# check data type \n",
    "print(type(s))\n",
    "\n",
    "# access string with index\n",
    "print(s[1])\n",
    "print(s[2])\n",
    "print(s[-1])"
   ]
  },
  {
   "cell_type": "markdown",
   "id": "b1769aad",
   "metadata": {},
   "source": [
    "List Data Type"
   ]
  },
  {
   "cell_type": "code",
   "execution_count": 7,
   "id": "5cd175ff",
   "metadata": {},
   "outputs": [
    {
     "name": "stdout",
     "output_type": "stream",
     "text": [
      "[1, 2, 3]\n",
      "['I play', 'For', 'India', 4, 5]\n"
     ]
    }
   ],
   "source": [
    "# Empty list\n",
    "a = []\n",
    "\n",
    "# list with int values\n",
    "a = [1, 2, 3]\n",
    "print(a)\n",
    "\n",
    "# list with mixed int and string\n",
    "b = [\"I play\", \"For\", \"India\", 4, 5]\n",
    "print(b)"
   ]
  },
  {
   "cell_type": "code",
   "execution_count": 8,
   "id": "50ce8cf2",
   "metadata": {},
   "outputs": [
    {
     "name": "stdout",
     "output_type": "stream",
     "text": [
      "Accessing element from the list\n",
      "Love\n",
      "country\n",
      "Accessing element using negative indexing\n",
      "country\n",
      "Love\n"
     ]
    }
   ],
   "source": [
    "a = [\"Love\", \"my\", \"country\"]\n",
    "print(\"Accessing element from the list\")\n",
    "print(a[0])\n",
    "print(a[2])\n",
    "\n",
    "print(\"Accessing element using negative indexing\")\n",
    "print(a[-1])\n",
    "print(a[-3])"
   ]
  },
  {
   "cell_type": "markdown",
   "id": "8783edbe",
   "metadata": {},
   "source": [
    "Tuple Data Type"
   ]
  },
  {
   "cell_type": "code",
   "execution_count": 11,
   "id": "e94e4fdf",
   "metadata": {},
   "outputs": [
    {
     "name": "stdout",
     "output_type": "stream",
     "text": [
      "\n",
      "Tuple with the use of String:  ('Love', 'For')\n"
     ]
    }
   ],
   "source": [
    "# initiate empty tuple\n",
    "tup1 = ()\n",
    "\n",
    "tup2 = ('Love', 'For')\n",
    "print(\"\\nTuple with the use of String: \", tup2)"
   ]
  },
  {
   "cell_type": "code",
   "execution_count": 12,
   "id": "8513b0e9",
   "metadata": {},
   "outputs": [
    {
     "name": "stdout",
     "output_type": "stream",
     "text": [
      "1\n",
      "5\n",
      "3\n"
     ]
    }
   ],
   "source": [
    "tup1 = tuple([1, 2, 3, 4, 5])\n",
    "\n",
    "# access tuple items\n",
    "print(tup1[0])\n",
    "print(tup1[-1])\n",
    "print(tup1[-3])\n"
   ]
  },
  {
   "cell_type": "markdown",
   "id": "ff686f6f",
   "metadata": {},
   "source": [
    "### Boolean Data Type "
   ]
  },
  {
   "cell_type": "code",
   "execution_count": 14,
   "id": "77cc4cbf",
   "metadata": {},
   "outputs": [
    {
     "name": "stdout",
     "output_type": "stream",
     "text": [
      "<class 'bool'>\n",
      "<class 'bool'>\n"
     ]
    },
    {
     "ename": "NameError",
     "evalue": "name 'true' is not defined",
     "output_type": "error",
     "traceback": [
      "\u001b[31m---------------------------------------------------------------------------\u001b[39m",
      "\u001b[31mNameError\u001b[39m                                 Traceback (most recent call last)",
      "\u001b[36mCell\u001b[39m\u001b[36m \u001b[39m\u001b[32mIn[14]\u001b[39m\u001b[32m, line 3\u001b[39m\n\u001b[32m      1\u001b[39m \u001b[38;5;28mprint\u001b[39m(\u001b[38;5;28mtype\u001b[39m(\u001b[38;5;28;01mTrue\u001b[39;00m))\n\u001b[32m      2\u001b[39m \u001b[38;5;28mprint\u001b[39m(\u001b[38;5;28mtype\u001b[39m(\u001b[38;5;28;01mFalse\u001b[39;00m))\n\u001b[32m----> \u001b[39m\u001b[32m3\u001b[39m \u001b[38;5;28mprint\u001b[39m(\u001b[38;5;28mtype\u001b[39m(\u001b[43mtrue\u001b[49m))\n",
      "\u001b[31mNameError\u001b[39m: name 'true' is not defined"
     ]
    }
   ],
   "source": [
    "print(type(True))\n",
    "print(type(False))\n",
    "print(type(true))"
   ]
  },
  {
   "cell_type": "markdown",
   "id": "1a1bfe74",
   "metadata": {},
   "source": [
    "### Set Data Type in Python "
   ]
  },
  {
   "cell_type": "code",
   "execution_count": 16,
   "id": "c93348de",
   "metadata": {},
   "outputs": [
    {
     "name": "stdout",
     "output_type": "stream",
     "text": [
      "Set with the use of String:  {'b', 'a', 'F', 't', 'l', 'o'}\n",
      "Set with the use of List:  {'Sita', 'Ram', 'married'}\n"
     ]
    }
   ],
   "source": [
    "# initializing empty set\n",
    "s1 = set()\n",
    "\n",
    "s1 = set(\"Football\")\n",
    "print(\"Set with the use of String: \", s1)\n",
    "\n",
    "s2 = set([\"Ram\", \"married\", \"Sita\"])\n",
    "print(\"Set with the use of List: \", s2)"
   ]
  },
  {
   "cell_type": "markdown",
   "id": "e108da14",
   "metadata": {},
   "source": [
    "Access Set Items "
   ]
  },
  {
   "cell_type": "code",
   "execution_count": 19,
   "id": "1b889504",
   "metadata": {},
   "outputs": [
    {
     "name": "stdout",
     "output_type": "stream",
     "text": [
      "{'Sita', 'Ram', 'married'}\n",
      "Sita Ram married True\n"
     ]
    }
   ],
   "source": [
    "set1 = set([\"Ram\", \"married\", \"Sita\"])\n",
    "print(set1)\n",
    "\n",
    "# loop through set\n",
    "for i in set1:\n",
    "    print(i, end=\" \")\n",
    "    \n",
    "# check if item exist in set    \n",
    "print(\"Ram\" in set1)"
   ]
  },
  {
   "cell_type": "markdown",
   "id": "74c0c965",
   "metadata": {},
   "source": [
    "Dictionary Data Type"
   ]
  },
  {
   "cell_type": "code",
   "execution_count": 24,
   "id": "8c498dba",
   "metadata": {},
   "outputs": [
    {
     "name": "stdout",
     "output_type": "stream",
     "text": [
      "{1: 'One', 2: 'Two', 3: 'Three', '2': 'Two'}\n",
      "{1: 'One', 2: 'Two', 3: 'Three', '2': 'Two'}\n",
      "Two\n",
      "Two\n",
      "Three\n"
     ]
    }
   ],
   "source": [
    "# initialize empty dictionary\n",
    "d = {}\n",
    "\n",
    "\n",
    "d = {1: 'One', 2: 'Two', 3: 'Three', '2': 'Two'}\n",
    "print(d)\n",
    "\n",
    "# creating dictionary using dict() constructor\n",
    "d1 = dict(d)\n",
    "print(d1)\n",
    "\n",
    "# Accessing an element using key\n",
    "print(d[2])\n",
    "\n",
    "# Accessing an element using key\n",
    "print(d['2'])\n",
    "\n",
    "# Accessing a element using get\n",
    "print(d.get(3))"
   ]
  }
 ],
 "metadata": {
  "kernelspec": {
   "display_name": "venv",
   "language": "python",
   "name": "python3"
  },
  "language_info": {
   "codemirror_mode": {
    "name": "ipython",
    "version": 3
   },
   "file_extension": ".py",
   "mimetype": "text/x-python",
   "name": "python",
   "nbconvert_exporter": "python",
   "pygments_lexer": "ipython3",
   "version": "3.12.9"
  }
 },
 "nbformat": 4,
 "nbformat_minor": 5
}
