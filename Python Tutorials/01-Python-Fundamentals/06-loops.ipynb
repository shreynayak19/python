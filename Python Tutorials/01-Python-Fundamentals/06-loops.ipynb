{
 "cells": [
  {
   "cell_type": "markdown",
   "id": "0215307f",
   "metadata": {},
   "source": [
    "# Loops in Python – For, While and Nested Loops"
   ]
  },
  {
   "cell_type": "markdown",
   "id": "d60d91a1",
   "metadata": {},
   "source": [
    "Loops in Python are used to repeat actions efficiently. \n",
    "\n",
    "The main types are For loops (counting through items) and While loops (based on conditions). \n",
    "\n",
    "Additionally, Nested Loops allow looping within loops for more complex tasks. While all the ways provide similar basic functionality, they differ in their syntax and condition-checking time. \n",
    "\n",
    "We will look at Python loops and understand their working with the help of examples.\n",
    "\n",
    "While Loop in Python\n",
    "\n",
    "In Python, a while loop is used to execute a block of statements repeatedly until a given condition is satisfied. \n",
    "\n",
    "When the condition becomes false, the line immediately after the loop in the program is executed."
   ]
  },
  {
   "cell_type": "code",
   "execution_count": 2,
   "id": "0946c737",
   "metadata": {},
   "outputs": [
    {
     "name": "stdout",
     "output_type": "stream",
     "text": [
      "Hello World\n",
      "Hello World\n",
      "Hello World\n"
     ]
    }
   ],
   "source": [
    "cnt = 0\n",
    "while (cnt < 3):\n",
    "    cnt = cnt + 1\n",
    "    print(\"Hello World\")"
   ]
  },
  {
   "cell_type": "markdown",
   "id": "7dd58ad3",
   "metadata": {},
   "source": [
    "Using else statement with While Loop in Python\n",
    "\n",
    "Else clause is only executed when our while condition becomes false. If we break out of the loop or if an exception is raised then it won’t be executed. \n",
    "\n",
    "Syntax of While Loop with else statement:"
   ]
  },
  {
   "cell_type": "code",
   "execution_count": 3,
   "id": "6a0d0b4f",
   "metadata": {},
   "outputs": [
    {
     "name": "stdout",
     "output_type": "stream",
     "text": [
      "Hello World\n",
      "Hello World\n",
      "Hello World\n",
      "In Else Block\n"
     ]
    }
   ],
   "source": [
    "cnt = 0\n",
    "while (cnt < 3):\n",
    "    cnt = cnt + 1\n",
    "    print(\"Hello World\")\n",
    "else:\n",
    "    print(\"In Else Block\")"
   ]
  },
  {
   "cell_type": "markdown",
   "id": "9dfeeb68",
   "metadata": {},
   "source": [
    "Infinite While Loop in Python\n",
    "\n",
    "If we want a block of code to execute infinite number of times then we can use the while loop in Python to do so.\n",
    "\n",
    "The code given below uses a ‘while’ loop with the condition (count == 0) and this loop will only run as long as count is equal to 0. Since count is initially set to 0, the loop will execute indefinitely because the condition is always true."
   ]
  },
  {
   "cell_type": "code",
   "execution_count": 5,
   "id": "61d133af",
   "metadata": {},
   "outputs": [],
   "source": [
    "# count = 0\n",
    "# while (count == 0):\n",
    "#     print(\"Hello World\")"
   ]
  },
  {
   "cell_type": "markdown",
   "id": "4c3d3181",
   "metadata": {},
   "source": [
    "For Loop in Python\n",
    "\n",
    "For loops are used for sequential traversal. \n",
    "\n",
    "For example: traversing a list or string or array etc. \n",
    "\n",
    "In Python, there is “for in” loop which is similar to foreach loop in other languages. \n",
    "\n",
    "Let us learn how to use for loops in Python for sequential traversals with examples."
   ]
  },
  {
   "cell_type": "code",
   "execution_count": 7,
   "id": "5519d013",
   "metadata": {},
   "outputs": [
    {
     "name": "stdout",
     "output_type": "stream",
     "text": [
      "0\n",
      "1\n",
      "2\n",
      "3\n"
     ]
    }
   ],
   "source": [
    "n = 4\n",
    "for i in range(0, n):\n",
    "    print(i)"
   ]
  },
  {
   "cell_type": "markdown",
   "id": "c596b200",
   "metadata": {},
   "source": [
    "\n",
    "Example with List, Tuple, String, and Dictionary Iteration Using for Loops in Python\n",
    "\n",
    "We can use for loop to iterate lists, tuples, strings and dictionaries in Python."
   ]
  },
  {
   "cell_type": "code",
   "execution_count": 8,
   "id": "96e23ef9",
   "metadata": {},
   "outputs": [
    {
     "name": "stdout",
     "output_type": "stream",
     "text": [
      "tit\n",
      "for\n",
      "tat\n",
      "tit\n",
      "for\n",
      "tat\n",
      "G\n",
      "e\n",
      "e\n",
      "k\n",
      "s\n",
      "x  123\n",
      "y  354\n",
      "1\n",
      "2\n",
      "3\n",
      "4\n",
      "5\n",
      "6\n"
     ]
    }
   ],
   "source": [
    "li = [\"tit\", \"for\", \"tat\"]\n",
    "for i in li:\n",
    "    print(i)\n",
    "    \n",
    "tup = (\"tit\", \"for\", \"tat\")\n",
    "for i in tup:\n",
    "    print(i)\n",
    "    \n",
    "s = \"Geeks\"\n",
    "for i in s:\n",
    "    print(i)\n",
    "    \n",
    "d = dict({'x':123, 'y':354})\n",
    "for i in d:\n",
    "    print(\"%s  %d\" % (i, d[i]))\n",
    "    \n",
    "set1 = {1, 2, 3, 4, 5, 6}\n",
    "for i in set1:\n",
    "    print(i),"
   ]
  },
  {
   "cell_type": "markdown",
   "id": "c72a280f",
   "metadata": {},
   "source": [
    "Iterating by the Index of Sequences"
   ]
  },
  {
   "cell_type": "code",
   "execution_count": 9,
   "id": "3f652b10",
   "metadata": {},
   "outputs": [
    {
     "name": "stdout",
     "output_type": "stream",
     "text": [
      "tit\n",
      "for\n",
      "tat\n"
     ]
    }
   ],
   "source": [
    "list = [\"tit\", \"for\", \"tat\"]\n",
    "for index in range(len(list)):\n",
    "    print(list[index])"
   ]
  },
  {
   "cell_type": "markdown",
   "id": "af912c39",
   "metadata": {},
   "source": [
    "Using else Statement with for Loop in Python"
   ]
  },
  {
   "cell_type": "code",
   "execution_count": 10,
   "id": "c08a8967",
   "metadata": {},
   "outputs": [
    {
     "name": "stdout",
     "output_type": "stream",
     "text": [
      "tit\n",
      "for\n",
      "tat\n",
      "Inside Else Block\n"
     ]
    }
   ],
   "source": [
    "list = [\"tit\", \"for\", \"tat\"]\n",
    "for index in range(len(list)):\n",
    "    print(list[index])\n",
    "else:\n",
    "    print(\"Inside Else Block\")"
   ]
  },
  {
   "cell_type": "markdown",
   "id": "95f02457",
   "metadata": {},
   "source": [
    "Nested Loops in Python"
   ]
  },
  {
   "cell_type": "code",
   "execution_count": 11,
   "id": "15de399d",
   "metadata": {},
   "outputs": [
    {
     "name": "stdout",
     "output_type": "stream",
     "text": [
      "1 \n",
      "2 2 \n",
      "3 3 3 \n",
      "4 4 4 4 \n"
     ]
    }
   ],
   "source": [
    "from __future__ import print_function\n",
    "for i in range(1, 5):\n",
    "    for j in range(i):\n",
    "        print(i, end=' ')\n",
    "    print()"
   ]
  },
  {
   "cell_type": "markdown",
   "id": "ff2dadbe",
   "metadata": {},
   "source": [
    "Loop Control Statements"
   ]
  },
  {
   "cell_type": "code",
   "execution_count": 14,
   "id": "c37ea55b",
   "metadata": {},
   "outputs": [
    {
     "name": "stdout",
     "output_type": "stream",
     "text": [
      "Current Letter : h\n",
      "Current Letter : a\n",
      "Current Letter : r\n",
      "Current Letter : r\n",
      "Current Letter : p\n",
      "Current Letter : o\n",
      "Current Letter : t\n",
      "Current Letter : t\n",
      "Current Letter : r\n"
     ]
    }
   ],
   "source": [
    "for letter in 'harrypotter':\n",
    "    if letter == 'y' or letter == 'e':\n",
    "        continue\n",
    "    print('Current Letter :', letter)"
   ]
  },
  {
   "cell_type": "markdown",
   "id": "36fb3835",
   "metadata": {},
   "source": [
    "Break Statement"
   ]
  },
  {
   "cell_type": "code",
   "execution_count": 16,
   "id": "7434b6d1",
   "metadata": {},
   "outputs": [
    {
     "name": "stdout",
     "output_type": "stream",
     "text": [
      "Current Letter : o\n"
     ]
    }
   ],
   "source": [
    "for letter in 'harrypotter':\n",
    "    if letter == 'o' or letter == 'e':\n",
    "        break\n",
    "\n",
    "print('Current Letter :', letter)"
   ]
  },
  {
   "cell_type": "markdown",
   "id": "94985898",
   "metadata": {},
   "source": [
    "Pass Statement"
   ]
  },
  {
   "cell_type": "code",
   "execution_count": 17,
   "id": "69838f53",
   "metadata": {},
   "outputs": [
    {
     "name": "stdout",
     "output_type": "stream",
     "text": [
      "Last Letter : r\n"
     ]
    }
   ],
   "source": [
    "for letter in 'harrypotter':\n",
    "    pass\n",
    "print('Last Letter :', letter)"
   ]
  },
  {
   "cell_type": "markdown",
   "id": "a5a2fb1e",
   "metadata": {},
   "source": [
    "How for loop works internally in Python?"
   ]
  },
  {
   "cell_type": "code",
   "execution_count": 18,
   "id": "a89989de",
   "metadata": {},
   "outputs": [
    {
     "name": "stdout",
     "output_type": "stream",
     "text": [
      "apple\n",
      "orange\n",
      "kiwi\n"
     ]
    }
   ],
   "source": [
    "fruits = [\"apple\", \"orange\", \"kiwi\"]\n",
    "\n",
    "for fruit in fruits:\n",
    "\n",
    "    print(fruit)"
   ]
  },
  {
   "cell_type": "code",
   "execution_count": 19,
   "id": "bd182ded",
   "metadata": {},
   "outputs": [
    {
     "name": "stdout",
     "output_type": "stream",
     "text": [
      "apple\n",
      "orange\n",
      "kiwi\n"
     ]
    }
   ],
   "source": [
    "fruits = [\"apple\", \"orange\", \"kiwi\"]\n",
    "iter_obj = iter(fruits)\n",
    "while True:\n",
    "    try:\n",
    "        fruit = next(iter_obj)\n",
    "        print(fruit)\n",
    "    except StopIteration:\n",
    "        break"
   ]
  },
  {
   "cell_type": "markdown",
   "id": "fbca6d94",
   "metadata": {},
   "source": [
    "This Python code manually iterates through a list of fruits using an iterator.\n",
    "\n",
    "It prints each fruit’s name one by one and stops when there are no more items in the list.\n",
    "\n",
    "We can see that under the hood we are calling iter() and next() method."
   ]
  },
  {
   "cell_type": "code",
   "execution_count": null,
   "id": "cf2790ec",
   "metadata": {},
   "outputs": [],
   "source": []
  }
 ],
 "metadata": {
  "kernelspec": {
   "display_name": "venv",
   "language": "python",
   "name": "python3"
  },
  "language_info": {
   "codemirror_mode": {
    "name": "ipython",
    "version": 3
   },
   "file_extension": ".py",
   "mimetype": "text/x-python",
   "name": "python",
   "nbconvert_exporter": "python",
   "pygments_lexer": "ipython3",
   "version": "3.12.9"
  }
 },
 "nbformat": 4,
 "nbformat_minor": 5
}
