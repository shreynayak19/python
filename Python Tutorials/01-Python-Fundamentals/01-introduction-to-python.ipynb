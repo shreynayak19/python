{
 "cells": [
  {
   "cell_type": "markdown",
   "id": "95ab0cb5",
   "metadata": {},
   "source": [
    "# Introduction to Python\n",
    "\n",
    "Python was created by Guido van Rossum in 1991 and further developed by the Python Software Foundation. \n",
    "\n",
    "It was designed with focus on code readability and its syntax allows us to express concepts in fewer lines of code."
   ]
  },
  {
   "cell_type": "markdown",
   "id": "1fa01980",
   "metadata": {},
   "source": [
    "### Understanding Hello World Program in Python"
   ]
  },
  {
   "cell_type": "code",
   "execution_count": 9,
   "id": "278d618d",
   "metadata": {},
   "outputs": [
    {
     "name": "stdout",
     "output_type": "stream",
     "text": [
      "Hello, World!\n",
      "Hello Lovely World\n",
      "Hello Great World\n",
      "Hello Great World\n",
      "Welcome to the world of Python\n",
      "\n"
     ]
    }
   ],
   "source": [
    "# This is a comment. It will not be executed.\n",
    "\n",
    "print(\"Hello, World!\")\n",
    "\n",
    "# Using Single Quote\n",
    "print('Hello Lovely World')\n",
    "\n",
    "# Using Triple Quotes\n",
    "print(\"\"\"Hello Great World\"\"\")\n",
    "\n",
    "# Using Triple Quotes\n",
    "print(\"\"\"Hello Great World\n",
    "Welcome to the world of Python\n",
    "\"\"\")"
   ]
  },
  {
   "cell_type": "markdown",
   "id": "22068175",
   "metadata": {},
   "source": [
    "### Indentation in Python\n",
    "\n",
    "In Python, Indentation is used to define blocks of code.\n",
    "\n",
    "It tells the Python interpreter that a group of statements belongs to a specific block. \n",
    "\n",
    "All statements with the same level of indentation are considered part of the same block. \n",
    "\n",
    "Indentation is achieved using whitespace (spaces or tabs) at the beginning of each line."
   ]
  },
  {
   "cell_type": "code",
   "execution_count": 10,
   "id": "11017ac8",
   "metadata": {},
   "outputs": [
    {
     "name": "stdout",
     "output_type": "stream",
     "text": [
      "This is true!\n",
      "I am tab indentation\n",
      "I have no indentation\n"
     ]
    }
   ],
   "source": [
    "if 10 > 5:\n",
    "    print(\"This is true!\")\n",
    "    print(\"I am tab indentation\")\n",
    "\n",
    "print(\"I have no indentation\")"
   ]
  },
  {
   "cell_type": "code",
   "execution_count": 11,
   "id": "2cb3b1c1",
   "metadata": {},
   "outputs": [
    {
     "ename": "IndentationError",
     "evalue": "expected an indented block after 'if' statement on line 3 (2364651441.py, line 4)",
     "output_type": "error",
     "traceback": [
      "  \u001b[36mCell\u001b[39m\u001b[36m \u001b[39m\u001b[32mIn[11]\u001b[39m\u001b[32m, line 4\u001b[39m\n\u001b[31m    \u001b[39m\u001b[31mprint(\"GeeksforGeeks\")\u001b[39m\n    ^\n\u001b[31mIndentationError\u001b[39m\u001b[31m:\u001b[39m expected an indented block after 'if' statement on line 3\n"
     ]
    }
   ],
   "source": [
    "# If we Skip Indentation, Python will throw error. \n",
    "\n",
    "if 10>5:\n",
    "print(\"GeeksforGeeks\")"
   ]
  },
  {
   "cell_type": "code",
   "execution_count": null,
   "id": "09a1393f",
   "metadata": {},
   "outputs": [],
   "source": []
  }
 ],
 "metadata": {
  "kernelspec": {
   "display_name": "venv",
   "language": "python",
   "name": "python3"
  },
  "language_info": {
   "codemirror_mode": {
    "name": "ipython",
    "version": 3
   },
   "file_extension": ".py",
   "mimetype": "text/x-python",
   "name": "python",
   "nbconvert_exporter": "python",
   "pygments_lexer": "ipython3",
   "version": "3.12.9"
  }
 },
 "nbformat": 4,
 "nbformat_minor": 5
}
